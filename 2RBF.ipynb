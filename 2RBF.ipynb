{
  "nbformat": 4,
  "nbformat_minor": 0,
  "metadata": {
    "colab": {
      "provenance": [],
      "authorship_tag": "ABX9TyNe/0qbJypFtdBknFtevAFV",
      "include_colab_link": true
    },
    "kernelspec": {
      "name": "ir",
      "display_name": "R"
    },
    "language_info": {
      "name": "R"
    }
  },
  "cells": [
    {
      "cell_type": "markdown",
      "metadata": {
        "id": "view-in-github",
        "colab_type": "text"
      },
      "source": [
        "<a href=\"https://colab.research.google.com/github/rbauza7/Examen-Final-Ej-2/blob/main/2RBF.ipynb\" target=\"_parent\"><img src=\"https://colab.research.google.com/assets/colab-badge.svg\" alt=\"Open In Colab\"/></a>"
      ]
    },
    {
      "cell_type": "code",
      "source": [
        "# Instalar R en Google Colab\n",
        "!apt-get install -y r-base\n",
        "\n",
        "# Instalar IRKernel para ejecutar R\n",
        "!R -e \"install.packages('IRkernel'); IRkernel::installspec(user = FALSE)\"\n"
      ],
      "metadata": {
        "colab": {
          "base_uri": "https://localhost:8080/"
        },
        "id": "hQ1G4l-xVY6Q",
        "outputId": "b5edc60b-7ea1-40d1-d0f7-eabeeb7c098a"
      },
      "execution_count": 1,
      "outputs": [
        {
          "output_type": "stream",
          "name": "stdout",
          "text": [
            "Reading package lists... Done\n",
            "Building dependency tree... Done\n",
            "Reading state information... Done\n",
            "r-base is already the newest version (4.4.2-1.2204.0).\n",
            "0 upgraded, 0 newly installed, 0 to remove and 49 not upgraded.\n",
            "\n",
            "R version 4.4.2 (2024-10-31) -- \"Pile of Leaves\"\n",
            "Copyright (C) 2024 The R Foundation for Statistical Computing\n",
            "Platform: x86_64-pc-linux-gnu\n",
            "\n",
            "R is free software and comes with ABSOLUTELY NO WARRANTY.\n",
            "You are welcome to redistribute it under certain conditions.\n",
            "Type 'license()' or 'licence()' for distribution details.\n",
            "\n",
            "  Natural language support but running in an English locale\n",
            "\n",
            "R is a collaborative project with many contributors.\n",
            "Type 'contributors()' for more information and\n",
            "'citation()' on how to cite R or R packages in publications.\n",
            "\n",
            "Type 'demo()' for some demos, 'help()' for on-line help, or\n",
            "'help.start()' for an HTML browser interface to help.\n",
            "Type 'q()' to quit R.\n",
            "\n",
            "> install.packages('IRkernel'); IRkernel::installspec(user = FALSE)\n",
            "Installing package into ‘/usr/local/lib/R/site-library’\n",
            "(as ‘lib’ is unspecified)\n",
            "trying URL 'https://cran.rstudio.com/src/contrib/IRkernel_1.3.2.tar.gz'\n",
            "Content type 'application/x-gzip' length 45172 bytes (44 KB)\n",
            "==================================================\n",
            "downloaded 44 KB\n",
            "\n",
            "* installing *source* package ‘IRkernel’ ...\n",
            "** package ‘IRkernel’ successfully unpacked and MD5 sums checked\n",
            "** using staged installation\n",
            "** R\n",
            "** inst\n",
            "** byte-compile and prepare package for lazy loading\n",
            "** help\n",
            "*** installing help indices\n",
            "** building package indices\n",
            "** testing if installed package can be loaded from temporary location\n",
            "** testing if installed package can be loaded from final location\n",
            "** testing if installed package keeps a record of temporary installation path\n",
            "* DONE (IRkernel)\n",
            "\n",
            "The downloaded source packages are in\n",
            "\t‘/tmp/Rtmp4TfCIn/downloaded_packages’\n",
            "\u001b[?25h> \n",
            "> \n",
            "\u001b[?25h"
          ]
        }
      ]
    },
    {
      "cell_type": "code",
      "source": [
        "# Instalar librería para trabajar con archivos Excel\n",
        "install.packages(\"readxl\")\n",
        "library(readxl)\n",
        "\n",
        "# Enlace directo al archivo Excel en GitHub\n",
        "url <- \"https://github.com/rbauza7/Examen-Final-Ej-2/raw/refs/heads/main/tabla_calidad_agua.xlsx\"\n",
        "\n",
        "# Descargar el archivo temporalmente\n",
        "temp_file <- tempfile(fileext = \".xlsx\")\n",
        "download.file(url, temp_file, mode = \"wb\")\n",
        "\n",
        "# Leer el archivo Excel\n",
        "datos <- read_excel(temp_file)\n",
        "\n",
        "# Mostrar los datos\n",
        "print(datos)\n"
      ],
      "metadata": {
        "colab": {
          "base_uri": "https://localhost:8080/"
        },
        "id": "6ealB3fhahWa",
        "outputId": "3c41ab83-7ac1-4229-a1b1-db4b4747ebdb"
      },
      "execution_count": 4,
      "outputs": [
        {
          "output_type": "stream",
          "name": "stderr",
          "text": [
            "Installing package into ‘/usr/local/lib/R/site-library’\n",
            "(as ‘lib’ is unspecified)\n",
            "\n"
          ]
        },
        {
          "output_type": "stream",
          "name": "stdout",
          "text": [
            "\u001b[90m# A tibble: 11 × 6\u001b[39m\n",
            "   `Color del agua` Olor         `Residuos sólidos` `Presencia de contaminantes`\n",
            "   \u001b[3m\u001b[90m<chr>\u001b[39m\u001b[23m            \u001b[3m\u001b[90m<chr>\u001b[39m\u001b[23m        \u001b[3m\u001b[90m<chr>\u001b[39m\u001b[23m              \u001b[3m\u001b[90m<chr>\u001b[39m\u001b[23m                       \n",
            "\u001b[90m 1\u001b[39m Claro            Sin olor     No                 No                          \n",
            "\u001b[90m 2\u001b[39m Claro            Sin olor     No                 No                          \n",
            "\u001b[90m 3\u001b[39m Claro            Desagradable Sí                 Sí                          \n",
            "\u001b[90m 4\u001b[39m Claro            Desagradable No                 Sí                          \n",
            "\u001b[90m 5\u001b[39m Turbio           Sin olor     Sí                 Sí                          \n",
            "\u001b[90m 6\u001b[39m Turbio           Sin olor     No                 Sí                          \n",
            "\u001b[90m 7\u001b[39m Turbio           Desagradable Sí                 Sí                          \n",
            "\u001b[90m 8\u001b[39m Claro            Desagradable No                 No                          \n",
            "\u001b[90m 9\u001b[39m Turbio           Desagradable Sí                 Sí                          \n",
            "\u001b[90m10\u001b[39m Turbio           Sin olor     Sí                 Sí                          \n",
            "\u001b[90m11\u001b[39m Turbio           Desagradable No                 No                          \n",
            "\u001b[90m# ℹ 2 more variables: `Nivel de pH` <chr>, Respuesta <chr>\u001b[39m\n"
          ]
        }
      ]
    },
    {
      "cell_type": "markdown",
      "source": [
        "**Calcular la entropía inicial**"
      ],
      "metadata": {
        "id": "2XzNuOGTa3i9"
      }
    },
    {
      "cell_type": "code",
      "source": [
        "# Calcular la proporción de cada clase\n",
        "tabla_respuesta <- table(datos$Respuesta)\n",
        "proporciones <- prop.table(tabla_respuesta)\n",
        "\n",
        "# Calcular la entropía\n",
        "entropia_inicial <- -sum(proporciones * log2(proporciones))\n",
        "\n",
        "# Mostrar la entropía inicial\n",
        "print(paste(\"Entropía inicial:\", entropia_inicial))\n"
      ],
      "metadata": {
        "colab": {
          "base_uri": "https://localhost:8080/"
        },
        "id": "C13pqDiza6I0",
        "outputId": "7b722667-f94f-4e05-df5e-33cc84da17e7"
      },
      "execution_count": 5,
      "outputs": [
        {
          "output_type": "stream",
          "name": "stdout",
          "text": [
            "[1] \"Entropía inicial: 0.684038435639042\"\n"
          ]
        }
      ]
    },
    {
      "cell_type": "markdown",
      "source": [
        "Gananacia de informacion (GI)"
      ],
      "metadata": {
        "id": "HbBdQt-2bEXp"
      }
    },
    {
      "cell_type": "markdown",
      "source": [
        "Agua"
      ],
      "metadata": {
        "id": "OWdc_S_ybNme"
      }
    },
    {
      "cell_type": "code",
      "source": [
        "# Función para calcular entropía\n",
        "calcular_entropia <- function(tabla) {\n",
        "  proporciones <- prop.table(tabla)\n",
        "  -sum(proporciones * log2(proporciones), na.rm = TRUE)\n",
        "}\n",
        "\n",
        "# Dividir los datos según \"Color del agua\"\n",
        "grupos_color <- split(datos, datos$`Color del agua`)\n",
        "\n",
        "# Calcular la entropía ponderada para \"Color del agua\"\n",
        "entropia_color <- sum(sapply(grupos_color, function(grupo) {\n",
        "  n <- nrow(grupo) / nrow(datos)  # Proporción del grupo\n",
        "  n * calcular_entropia(table(grupo$Respuesta))  # Entropía ponderada\n",
        "}))\n",
        "\n",
        "# Calcular ganancia de información\n",
        "ganancia_color <- entropia_inicial - entropia_color\n",
        "\n",
        "# Mostrar el resultado\n",
        "print(paste(\"Ganancia de información para 'Color del agua':\", ganancia_color))\n"
      ],
      "metadata": {
        "colab": {
          "base_uri": "https://localhost:8080/"
        },
        "id": "GVc6NCVybIV2",
        "outputId": "1fd8103f-d86d-4e9a-cea8-7dfbc7b36d2b"
      },
      "execution_count": 6,
      "outputs": [
        {
          "output_type": "stream",
          "name": "stdout",
          "text": [
            "[1] \"Ganancia de información para 'Color del agua': 0.242697256341465\"\n"
          ]
        }
      ]
    },
    {
      "cell_type": "markdown",
      "source": [
        "Olor"
      ],
      "metadata": {
        "id": "GyIY_Y87bifN"
      }
    },
    {
      "cell_type": "code",
      "source": [
        "# Dividir los datos según \"Olor\"\n",
        "grupos_olor <- split(datos, datos$Olor)\n",
        "\n",
        "# Calcular la entropía ponderada para \"Olor\"\n",
        "entropia_olor <- sum(sapply(grupos_olor, function(grupo) {\n",
        "  n <- nrow(grupo) / nrow(datos)  # Proporción del grupo\n",
        "  n * calcular_entropia(table(grupo$Respuesta))  # Entropía del grupo\n",
        "}))\n",
        "\n",
        "# Calcular la ganancia de información\n",
        "ganancia_olor <- entropia_inicial - entropia_olor\n",
        "\n",
        "# Mostrar el resultado\n",
        "print(paste(\"Ganancia de información para 'Olor':\", ganancia_olor))\n"
      ],
      "metadata": {
        "colab": {
          "base_uri": "https://localhost:8080/"
        },
        "id": "oKROLhWYcGX-",
        "outputId": "be2123b2-2b31-4a55-f9e9-f0755d4e3a4e"
      },
      "execution_count": 7,
      "outputs": [
        {
          "output_type": "stream",
          "name": "stdout",
          "text": [
            "[1] \"Ganancia de información para 'Olor': 0.242697256341465\"\n"
          ]
        }
      ]
    },
    {
      "cell_type": "markdown",
      "source": [
        "Residuos sólidos"
      ],
      "metadata": {
        "id": "aAIXgFdGcQca"
      }
    },
    {
      "cell_type": "code",
      "source": [
        "# Dividir los datos según \"Residuos sólidos\"\n",
        "grupos_residuos <- split(datos, datos$`Residuos sólidos`)\n",
        "\n",
        "# Calcular la entropía ponderada para \"Residuos sólidos\"\n",
        "entropia_residuos <- sum(sapply(grupos_residuos, function(grupo) {\n",
        "  n <- nrow(grupo) / nrow(datos)  # Proporción del grupo\n",
        "  n * calcular_entropia(table(grupo$Respuesta))  # Entropía del grupo\n",
        "}))\n",
        "\n",
        "# Calcular la ganancia de información\n",
        "ganancia_residuos <- entropia_inicial - entropia_residuos\n",
        "\n",
        "# Mostrar el resultado\n",
        "print(paste(\"Ganancia de información para 'Residuos sólidos':\", ganancia_residuos))\n"
      ],
      "metadata": {
        "colab": {
          "base_uri": "https://localhost:8080/"
        },
        "id": "-7Ml5scycSfV",
        "outputId": "7fa8ebbd-2eab-48e7-b637-85880cc758fa"
      },
      "execution_count": 8,
      "outputs": [
        {
          "output_type": "stream",
          "name": "stdout",
          "text": [
            "[1] \"Ganancia de información para 'Residuos sólidos': 0.183149798882047\"\n"
          ]
        }
      ]
    },
    {
      "cell_type": "markdown",
      "source": [
        "Presencia de contaminantes"
      ],
      "metadata": {
        "id": "8XPMtm17cZlG"
      }
    },
    {
      "cell_type": "code",
      "source": [
        "# Dividir los datos según \"Presencia de contaminantes\"\n",
        "grupos_contaminantes <- split(datos, datos$`Presencia de contaminantes`)\n",
        "\n",
        "# Calcular la entropía ponderada para \"Presencia de contaminantes\"\n",
        "entropia_contaminantes <- sum(sapply(grupos_contaminantes, function(grupo) {\n",
        "  n <- nrow(grupo) / nrow(datos)  # Proporción del grupo\n",
        "  n * calcular_entropia(table(grupo$Respuesta))  # Entropía del grupo\n",
        "}))\n",
        "\n",
        "# Calcular la ganancia de información\n",
        "ganancia_contaminantes <- entropia_inicial - entropia_contaminantes\n",
        "\n",
        "# Mostrar el resultado\n",
        "print(paste(\"Ganancia de información para 'Presencia de contaminantes':\", ganancia_contaminantes))\n"
      ],
      "metadata": {
        "colab": {
          "base_uri": "https://localhost:8080/"
        },
        "id": "1QA4zBkscm0-",
        "outputId": "e85829ce-fd33-41f0-a73d-488ad021f05b"
      },
      "execution_count": 9,
      "outputs": [
        {
          "output_type": "stream",
          "name": "stdout",
          "text": [
            "[1] \"Ganancia de información para 'Presencia de contaminantes': 0.320402072002678\"\n"
          ]
        }
      ]
    },
    {
      "cell_type": "markdown",
      "source": [
        "Nivel d epH"
      ],
      "metadata": {
        "id": "7zccFpkkcx1W"
      }
    },
    {
      "cell_type": "code",
      "source": [
        "# Dividir los datos según \"Nivel de pH\"\n",
        "grupos_ph <- split(datos, datos$`Nivel de pH`)\n",
        "\n",
        "# Calcular la entropía ponderada para \"Nivel de pH\"\n",
        "entropia_ph <- sum(sapply(grupos_ph, function(grupo) {\n",
        "  n <- nrow(grupo) / nrow(datos)  # Proporción del grupo\n",
        "  n * calcular_entropia(table(grupo$Respuesta))  # Entropía del grupo\n",
        "}))\n",
        "\n",
        "# Calcular la ganancia de información\n",
        "ganancia_ph <- entropia_inicial - entropia_ph\n",
        "\n",
        "# Mostrar el resultado\n",
        "print(paste(\"Ganancia de información para 'Nivel de pH':\", ganancia_ph))\n"
      ],
      "metadata": {
        "colab": {
          "base_uri": "https://localhost:8080/"
        },
        "id": "YpYL69ARc0DN",
        "outputId": "82424809-9b97-4b78-f7d7-79ec2b823375"
      },
      "execution_count": 10,
      "outputs": [
        {
          "output_type": "stream",
          "name": "stdout",
          "text": [
            "[1] \"Ganancia de información para 'Nivel de pH': 0.433594117260545\"\n"
          ]
        }
      ]
    },
    {
      "cell_type": "markdown",
      "source": [
        "Si la ganancia de información (GI) para la variable \"Nivel de pH\" es la mayor entre todas las variables, entonces esa será seleccionada como el nodo raíz del árbol de decisión."
      ],
      "metadata": {
        "id": "feCU95_Ides9"
      }
    },
    {
      "cell_type": "code",
      "source": [
        "# Crear el modelo del árbol de decisión con ajustes\n",
        "modelo_arbol <- rpart(\n",
        "  Respuesta ~ .,\n",
        "  data = datos,\n",
        "  method = \"class\",\n",
        "  parms = list(split = \"information\"),  # Usar ganancia de información\n",
        "  control = rpart.control(minsplit = 1, cp = 0.01)  # Permitir más divisiones\n",
        ")\n",
        "\n",
        "# Visualizar el árbol de decisión\n",
        "rpart.plot(modelo_arbol, type = 4, extra = 101)\n",
        "\n",
        "# Mostrar los detalles del árbol\n",
        "print(modelo_arbol)\n"
      ],
      "metadata": {
        "colab": {
          "base_uri": "https://localhost:8080/",
          "height": 611
        },
        "id": "TKeQd3tfd0qV",
        "outputId": "5b1a2853-3c27-44ae-f143-0a503d8912a8"
      },
      "execution_count": 12,
      "outputs": [
        {
          "output_type": "stream",
          "name": "stdout",
          "text": [
            "n= 11 \n",
            "\n",
            "node), split, n, loss, yval, (yprob)\n",
            "      * denotes terminal node\n",
            "\n",
            "1) root 11 2 No apta (0.1818182 0.8181818)  \n",
            "  2) Nivel de pH=Normal 3 1 Apta (0.6666667 0.3333333)  \n",
            "    4) Olor=Sin olor 2 0 Apta (1.0000000 0.0000000) *\n",
            "    5) Olor=Desagradable 1 0 No apta (0.0000000 1.0000000) *\n",
            "  3) Nivel de pH=Alto,Bajo 8 0 No apta (0.0000000 1.0000000) *\n"
          ]
        },
        {
          "output_type": "display_data",
          "data": {
            "text/plain": [
              "plot without title"
            ],
            "image/png": "[encoded data removed]"
          },
          "metadata": {
            "image/png": {
              "width": 420,
              "height": 420
            }
          }
        }
      ]
    }
  ]
}